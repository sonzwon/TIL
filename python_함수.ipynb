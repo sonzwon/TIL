{
  "nbformat": 4,
  "nbformat_minor": 0,
  "metadata": {
    "colab": {
      "name": "python_함수",
      "provenance": [],
      "authorship_tag": "ABX9TyOi0D/3Hhdd1PATcbv9kJBq",
      "include_colab_link": true
    },
    "kernelspec": {
      "name": "python3",
      "display_name": "Python 3"
    },
    "language_info": {
      "name": "python"
    }
  },
  "cells": [
    {
      "cell_type": "markdown",
      "metadata": {
        "id": "view-in-github",
        "colab_type": "text"
      },
      "source": [
        "<a href=\"https://colab.research.google.com/github/sonzwon/TIL/blob/master/python_%ED%95%A8%EC%88%98.ipynb\" target=\"_parent\"><img src=\"https://colab.research.google.com/assets/colab-badge.svg\" alt=\"Open In Colab\"/></a>"
      ]
    },
    {
      "cell_type": "markdown",
      "source": [
        "###함수 실습"
      ],
      "metadata": {
        "id": "wrYU26gg8Sn5"
      }
    },
    {
      "cell_type": "code",
      "execution_count": null,
      "metadata": {
        "id": "uCNuUgQ2mP6F"
      },
      "outputs": [],
      "source": [
        "# 잔돈 계산 함수\n",
        "\n",
        "def calculate_change(payment, cost):\n",
        "  change = payment - cost\n",
        "  unit = [50000,10000,5000,1000]\n",
        "\n",
        "  for i in range(len(unit)):\n",
        "    amount = change//unit[i]  # unit몇장?\n",
        "    print('{}원 지폐 : {}장'.format(unit[i], amount))\n",
        "    change -= unit[i]*amount # 앞에서 세아려진 지폐의 금액을 빼주어야함\n",
        "    # change = change % unit[i] 나머지금액"
      ]
    },
    {
      "cell_type": "code",
      "source": [
        "calculate_change(100000,85000)"
      ],
      "metadata": {
        "colab": {
          "base_uri": "https://localhost:8080/"
        },
        "id": "VN7PXbfRs5Fs",
        "outputId": "ee80ed79-ed58-4516-cc23-a532fefee5fa"
      },
      "execution_count": null,
      "outputs": [
        {
          "output_type": "stream",
          "name": "stdout",
          "text": [
            "50000원 지폐 : 0장\n",
            "10000원 지폐 : 1장\n",
            "5000원 지폐 : 1장\n",
            "1000원 지폐 : 0장\n"
          ]
        }
      ]
    },
    {
      "cell_type": "markdown",
      "source": [
        "### 재귀함수 \n",
        "자기 스스로를 호출하는 함수"
      ],
      "metadata": {
        "id": "y_3WWpQ1A_Vp"
      }
    },
    {
      "cell_type": "code",
      "source": [
        "def func(count):\n",
        "  if count>0:\n",
        "    print(count,'현재')\n",
        "    func(count-1)\n",
        "    print('결과',count)\n",
        "func(3)"
      ],
      "metadata": {
        "colab": {
          "base_uri": "https://localhost:8080/"
        },
        "id": "__-lzvYeA9sI",
        "outputId": "47adff3a-4e9e-4659-a29e-d3b92d3227db"
      },
      "execution_count": null,
      "outputs": [
        {
          "output_type": "stream",
          "name": "stdout",
          "text": [
            "3 현재\n",
            "2 현재\n",
            "1 현재\n",
            "결과 1\n",
            "결과 2\n",
            "결과 3\n"
          ]
        }
      ]
    },
    {
      "cell_type": "code",
      "source": [
        "def test(i):\n",
        "  if i==5:\n",
        "    return\n",
        "  print(i,'번째 재귀함수에서', i+1, '번째 재귀함수 호출')\n",
        "  test(i+1)\n",
        "  print(i,'번째 재귀함수를 종료합니다')\n",
        "test(1)"
      ],
      "metadata": {
        "colab": {
          "base_uri": "https://localhost:8080/"
        },
        "id": "eU4qzoPtEJ6f",
        "outputId": "93602f69-93e6-486a-dd20-215390fc2052"
      },
      "execution_count": null,
      "outputs": [
        {
          "output_type": "stream",
          "name": "stdout",
          "text": [
            "1 번째 재귀함수에서 2 번째 재귀함수 호출\n",
            "2 번째 재귀함수에서 3 번째 재귀함수 호출\n",
            "3 번째 재귀함수에서 4 번째 재귀함수 호출\n",
            "4 번째 재귀함수에서 5 번째 재귀함수 호출\n",
            "4 번째 재귀함수를 종료합니다\n",
            "3 번째 재귀함수를 종료합니다\n",
            "2 번째 재귀함수를 종료합니다\n",
            "1 번째 재귀함수를 종료합니다\n"
          ]
        }
      ]
    },
    {
      "cell_type": "markdown",
      "source": [
        "### 중첩함수 \n",
        "함수 안에 정의된 함수"
      ],
      "metadata": {
        "id": "ZqUWf4O4MfT9"
      }
    },
    {
      "cell_type": "code",
      "source": [
        "def func1(a):\n",
        "  def func2():\n",
        "    nonlocal a #앞단계 앞의 함수의 매개변수를 취하겠다\n",
        "    a=a+1\n",
        "    return a\n",
        "  return func2()\n",
        "func1(2)"
      ],
      "metadata": {
        "colab": {
          "base_uri": "https://localhost:8080/"
        },
        "id": "T8LO-z9tMeNd",
        "outputId": "c4c2f08b-d353-4234-d179-c19589ca5f24"
      },
      "execution_count": null,
      "outputs": [
        {
          "output_type": "execute_result",
          "data": {
            "text/plain": [
              "3"
            ]
          },
          "metadata": {},
          "execution_count": 45
        }
      ]
    },
    {
      "cell_type": "markdown",
      "source": [
        "###lambda함수\n",
        "이름이 없는 한줄 짜리 함수"
      ],
      "metadata": {
        "id": "qAoUQHb3ODO4"
      }
    },
    {
      "cell_type": "code",
      "source": [
        "# 함수의 인수로 함수를 받을 수 있음\n",
        "\n",
        "def run(func, x):\n",
        "  print(func(x))\n",
        "run(lambda x: x+1, 1)"
      ],
      "metadata": {
        "colab": {
          "base_uri": "https://localhost:8080/"
        },
        "id": "-ksTRCMgLbZ8",
        "outputId": "a0c67edb-c8f7-408a-c884-9c03f703211f"
      },
      "execution_count": null,
      "outputs": [
        {
          "output_type": "stream",
          "name": "stdout",
          "text": [
            "2\n"
          ]
        }
      ]
    },
    {
      "cell_type": "markdown",
      "source": [
        "### 내장함수들\n",
        "- abs(x) : 절댓값을 반환하는 함수\n",
        "- max() : 최댓값을 반환하는 함수\n",
        "- min() : 최솟값을 반환하는 함수\n",
        "- sorted() : 매개변수를 정렬한 후 결과를 반환하는 함수\n",
        "- type(x) : 자료형이 무엇인지 알려주는 함수\n",
        "- round(x,n) : x를 소수 n번째 자리수 까지 반올림하여 반환하는 함수\n",
        "- pow(x,y) : x의 y제곱을 반환하는 함수"
      ],
      "metadata": {
        "id": "8An-WS8M6Wph"
      }
    },
    {
      "cell_type": "markdown",
      "source": [
        "enumerate : 리스트의 원소와 인덱스 값을 모두 생성"
      ],
      "metadata": {
        "id": "xjVx-HbE_nIA"
      }
    },
    {
      "cell_type": "code",
      "source": [
        "for index, x in enumerate(['a','b','c','d']):\n",
        "  print(index)\n",
        "  print(x)"
      ],
      "metadata": {
        "colab": {
          "base_uri": "https://localhost:8080/"
        },
        "id": "G3fcpneZO3eA",
        "outputId": "4d927376-e6fa-48e7-840d-107980d65c4d"
      },
      "execution_count": null,
      "outputs": [
        {
          "output_type": "stream",
          "name": "stdout",
          "text": [
            "0\n",
            "a\n",
            "1\n",
            "b\n",
            "2\n",
            "c\n",
            "3\n",
            "d\n"
          ]
        }
      ]
    },
    {
      "cell_type": "markdown",
      "source": [
        "zip(리스트1,리스트2) : 두개의 리스트를 합쳐서 각 리스트 원소의 쌍을 원소로 가지는 하나의 리스트를 반환"
      ],
      "metadata": {
        "id": "-enSH94cAKqM"
      }
    },
    {
      "cell_type": "code",
      "source": [
        "list1 = [1,2,3,4]\n",
        "list2 = [5,6,7,8]\n",
        "zip(list1,list2)  # <zip at 0x7fdb0dcea2d0> =? generator 이런걸 반환할꺼라는 거를 가지고 있음\n",
        "list(zip(list1,list2))  #list함수를 취해주면 값 반환\n",
        "for i,j in zip(list1,list2):\n",
        "  print(i)\n",
        "  print(j)"
      ],
      "metadata": {
        "colab": {
          "base_uri": "https://localhost:8080/"
        },
        "id": "D7AAqeLrABuc",
        "outputId": "337dc15c-a0b0-48a6-a0d0-058b5ba8398a"
      },
      "execution_count": null,
      "outputs": [
        {
          "output_type": "stream",
          "name": "stdout",
          "text": [
            "1\n",
            "5\n",
            "2\n",
            "6\n",
            "3\n",
            "7\n",
            "4\n",
            "8\n"
          ]
        }
      ]
    },
    {
      "cell_type": "markdown",
      "source": [
        "map(함수, 컬렉션) :  함수와 컬랙션을 매개변수로 받아 컬렉션의 모든 데이터를 함수의 매개변수로 대입해서 결과를 리턴하는 함수."
      ],
      "metadata": {
        "id": "xLBzExdaCm5g"
      }
    },
    {
      "cell_type": "code",
      "source": [
        "map(lambda x:x+1, [1,2,3,4]) #<map at 0x7fdb0ba08cd0>\n",
        "list(map(lambda x:x+1, [1,2,3,4]))"
      ],
      "metadata": {
        "colab": {
          "base_uri": "https://localhost:8080/"
        },
        "id": "9_J_CcvvAl-x",
        "outputId": "c643886a-8c22-4f05-ca7c-43e9d572f0cb"
      },
      "execution_count": null,
      "outputs": [
        {
          "output_type": "execute_result",
          "data": {
            "text/plain": [
              "[2, 3, 4, 5]"
            ]
          },
          "metadata": {},
          "execution_count": 11
        }
      ]
    },
    {
      "cell_type": "markdown",
      "source": [
        "filter(함수, 컬렉션) : 함수와 컬렉션을 매개변수로 받아 컬렉션의 모든 데이터를 함수의 매개변수로 대입해서 결과가 참인 컬렉션의 멤버들을 반환하는 함수"
      ],
      "metadata": {
        "id": "CYerrzeJDFhb"
      }
    },
    {
      "cell_type": "code",
      "source": [
        "filter(lambda x:x%2==0, [1,2,3,4]) #<filter at 0x7fdb0ba50a90>\n",
        "list(filter(lambda x:x%2==0, [1,2,3,4]))"
      ],
      "metadata": {
        "colab": {
          "base_uri": "https://localhost:8080/"
        },
        "id": "z210RQWVC6b6",
        "outputId": "8b17a853-542a-401d-b254-231f823143a9"
      },
      "execution_count": null,
      "outputs": [
        {
          "output_type": "execute_result",
          "data": {
            "text/plain": [
              "[2, 4]"
            ]
          },
          "metadata": {},
          "execution_count": 14
        }
      ]
    },
    {
      "cell_type": "markdown",
      "source": [
        "### 외장함수\n",
        "- 다른 사람이 미리 정의 해놓은 함수\n",
        "- 라이브러리(모듈)란? 남들이 미리 작성해놓은 코드들의 집합(함수,클래스 등 포함)을 뜻함.\n",
        "  - import 라이브러리이름"
      ],
      "metadata": {
        "id": "AB4ap3-EEIj0"
      }
    },
    {
      "cell_type": "markdown",
      "source": [
        "import time"
      ],
      "metadata": {
        "id": "vQXkzzAEXaBQ"
      }
    },
    {
      "cell_type": "code",
      "source": [
        "import time\n",
        "time.time() #UTC를 사용하여 현재 시간을 실수형태로 반환(1970년 1월1일 0시0분0초 기준 현재까지 지난시간을 초 단위로 반환)"
      ],
      "metadata": {
        "id": "ajCWadZKDdfj",
        "colab": {
          "base_uri": "https://localhost:8080/"
        },
        "outputId": "25cd953f-cfb4-4ec8-f0fb-acf005e5a8b6"
      },
      "execution_count": 2,
      "outputs": [
        {
          "output_type": "execute_result",
          "data": {
            "text/plain": [
              "1655716250.6810231"
            ]
          },
          "metadata": {},
          "execution_count": 2
        }
      ]
    },
    {
      "cell_type": "code",
      "source": [
        "time.sleep(2) #x초 동안 대기해라(실행하다가 잠깐 쉬게) "
      ],
      "metadata": {
        "id": "-rqOr9RbYAh-"
      },
      "execution_count": 4,
      "outputs": []
    },
    {
      "cell_type": "code",
      "source": [
        "time.localtime(time.time())"
      ],
      "metadata": {
        "colab": {
          "base_uri": "https://localhost:8080/"
        },
        "id": "nQXzqGeCYYyl",
        "outputId": "e3e2dca3-c93a-471b-9730-87850df07515"
      },
      "execution_count": 5,
      "outputs": [
        {
          "output_type": "execute_result",
          "data": {
            "text/plain": [
              "time.struct_time(tm_year=2022, tm_mon=6, tm_mday=20, tm_hour=9, tm_min=11, tm_sec=53, tm_wday=0, tm_yday=171, tm_isdst=0)"
            ]
          },
          "metadata": {},
          "execution_count": 5
        }
      ]
    },
    {
      "cell_type": "code",
      "source": [
        "time.strftime('%Y-%m-%d', time.localtime(time.time()))\n",
        "time.strftime('%Y년 %m월 %d일', time.localtime(time.time()))"
      ],
      "metadata": {
        "colab": {
          "base_uri": "https://localhost:8080/",
          "height": 36
        },
        "id": "CF9SkpqoYfY_",
        "outputId": "5d442430-5f47-4a6d-9251-20d1160eba05"
      },
      "execution_count": 7,
      "outputs": [
        {
          "output_type": "execute_result",
          "data": {
            "text/plain": [
              "'2022년 06월 20일'"
            ],
            "application/vnd.google.colaboratory.intrinsic+json": {
              "type": "string"
            }
          },
          "metadata": {},
          "execution_count": 7
        }
      ]
    },
    {
      "cell_type": "markdown",
      "source": [
        "import sys"
      ],
      "metadata": {
        "id": "eDJd5KYHY7Xt"
      }
    },
    {
      "cell_type": "code",
      "source": [
        "import sys\n",
        "sys.path  #파이썬 모듈들이 저장되어 있는 위치 반환"
      ],
      "metadata": {
        "colab": {
          "base_uri": "https://localhost:8080/"
        },
        "id": "iH_MjT5AY7Cn",
        "outputId": "b7dfeffe-5a0e-4fcf-db4d-0d559bbc3f62"
      },
      "execution_count": 8,
      "outputs": [
        {
          "output_type": "execute_result",
          "data": {
            "text/plain": [
              "['',\n",
              " '/content',\n",
              " '/env/python',\n",
              " '/usr/lib/python37.zip',\n",
              " '/usr/lib/python3.7',\n",
              " '/usr/lib/python3.7/lib-dynload',\n",
              " '/usr/local/lib/python3.7/dist-packages',\n",
              " '/usr/lib/python3/dist-packages',\n",
              " '/usr/local/lib/python3.7/dist-packages/IPython/extensions',\n",
              " '/root/.ipython']"
            ]
          },
          "metadata": {},
          "execution_count": 8
        }
      ]
    },
    {
      "cell_type": "markdown",
      "source": [
        "import os : 환경변수, 디렉토리, 파일 등의 os자원을 제어하는 모듈"
      ],
      "metadata": {
        "id": "3IpmzN74ZHcH"
      }
    },
    {
      "cell_type": "code",
      "source": [
        "import os\n",
        "os.getcwd()  #현재위치확인"
      ],
      "metadata": {
        "colab": {
          "base_uri": "https://localhost:8080/",
          "height": 36
        },
        "id": "9dTUmD8BYtj8",
        "outputId": "27ace22d-b341-4687-d584-c1dfaa98c026"
      },
      "execution_count": 11,
      "outputs": [
        {
          "output_type": "execute_result",
          "data": {
            "text/plain": [
              "'/content'"
            ],
            "application/vnd.google.colaboratory.intrinsic+json": {
              "type": "string"
            }
          },
          "metadata": {},
          "execution_count": 11
        }
      ]
    },
    {
      "cell_type": "code",
      "source": [
        "os.chdir(path) #현제 디렉토리 변경"
      ],
      "metadata": {
        "id": "NrFAZKLaZjLF"
      },
      "execution_count": null,
      "outputs": []
    },
    {
      "cell_type": "code",
      "source": [
        "os.environ  #내 시스템 환경보기"
      ],
      "metadata": {
        "colab": {
          "base_uri": "https://localhost:8080/"
        },
        "id": "_fg22jU5Zv1h",
        "outputId": "b80fbd77-fe93-4d6e-c572-e4cd6c822c77"
      },
      "execution_count": 12,
      "outputs": [
        {
          "output_type": "execute_result",
          "data": {
            "text/plain": [
              "environ({'CUDNN_VERSION': '8.0.5.39', 'LD_LIBRARY_PATH': '/usr/local/nvidia/lib:/usr/local/nvidia/lib64', 'CLOUDSDK_PYTHON': 'python3', 'LANG': 'en_US.UTF-8', 'HOSTNAME': '7b2aba61d42a', 'OLDPWD': '/', 'CLOUDSDK_CONFIG': '/content/.config', 'NVIDIA_VISIBLE_DEVICES': 'all', 'DATALAB_SETTINGS_OVERRIDES': '{\"kernelManagerProxyPort\":6000,\"kernelManagerProxyHost\":\"172.28.0.3\",\"jupyterArgs\":[\"--ip=172.28.0.2\"],\"debugAdapterMultiplexerPath\":\"/usr/local/bin/dap_multiplexer\",\"enableLsp\":true}', 'ENV': '/root/.bashrc', 'NCCL_VERSION': '2.7.8', 'TF_FORCE_GPU_ALLOW_GROWTH': 'true', 'NO_GCE_CHECK': 'False', 'PWD': '/', 'HOME': '/root', 'LAST_FORCED_REBUILD': '20220614', 'DEBIAN_FRONTEND': 'noninteractive', 'LIBRARY_PATH': '/usr/local/cuda/lib64/stubs', 'GCE_METADATA_TIMEOUT': '3', 'GLIBCPP_FORCE_NEW': '1', 'TBE_CREDS_ADDR': '172.28.0.1:8008', 'SHELL': '/bin/bash', 'GCS_READ_CACHE_BLOCK_SIZE_MB': '16', 'PYTHONWARNINGS': 'ignore:::pip._internal.cli.base_command', 'CUDA_VERSION': '11.1.1', 'NVIDIA_DRIVER_CAPABILITIES': 'compute,utility', 'SHLVL': '0', 'PYTHONPATH': '/env/python', 'NVIDIA_REQUIRE_CUDA': 'cuda>=11.1 brand=tesla,driver>=418,driver<419 brand=tesla,driver>=440,driver<441 brand=tesla,driver>=450,driver<451', 'TBE_EPHEM_CREDS_ADDR': '172.28.0.1:8009', 'COLAB_GPU': '0', 'GLIBCXX_FORCE_NEW': '1', 'PATH': '/opt/bin:/usr/local/nvidia/bin:/usr/local/cuda/bin:/usr/local/sbin:/usr/local/bin:/usr/sbin:/usr/bin:/sbin:/bin:/tools/node/bin:/tools/google-cloud-sdk/bin', 'LD_PRELOAD': '/usr/lib/x86_64-linux-gnu/libtcmalloc.so.4', 'JPY_PARENT_PID': '43', 'TERM': 'xterm-color', 'CLICOLOR': '1', 'PAGER': 'cat', 'GIT_PAGER': 'cat', 'MPLBACKEND': 'module://ipykernel.pylab.backend_inline', 'ENABLE_DIRECTORYPREFETCHER': '1', 'USE_AUTH_EPHEM': '1', 'PYDEVD_USE_FRAME_EVAL': 'NO'})"
            ]
          },
          "metadata": {},
          "execution_count": 12
        }
      ]
    },
    {
      "cell_type": "markdown",
      "source": [
        "### 함수 심화함수"
      ],
      "metadata": {
        "id": "Za1NfVLPabwl"
      }
    },
    {
      "cell_type": "code",
      "source": [
        "x = [15,16,17]\n",
        "for index, s in enumerate(x): #enumerate는 인덱스와 값을 같이 추출할 수 있음\n",
        "  print(index, ':', s)"
      ],
      "metadata": {
        "colab": {
          "base_uri": "https://localhost:8080/"
        },
        "id": "VnVIqmv2Z2x0",
        "outputId": "1fd5960b-aaf0-48d2-a6b9-1660661bd167"
      },
      "execution_count": 13,
      "outputs": [
        {
          "output_type": "stream",
          "name": "stdout",
          "text": [
            "0 : 15\n",
            "1 : 16\n",
            "2 : 17\n"
          ]
        }
      ]
    },
    {
      "cell_type": "code",
      "source": [
        "result = map(lambda x:x+1, (1,2,3,4)) #map함수는 값을 함수에 적용해서 그 값을 리턴해줌\n",
        "list(result) #list 함수에 적용해주어야 값이 나옴"
      ],
      "metadata": {
        "colab": {
          "base_uri": "https://localhost:8080/"
        },
        "id": "UMzdn33tayeq",
        "outputId": "867657ab-1b16-4b26-fc90-b83f98d67227"
      },
      "execution_count": 14,
      "outputs": [
        {
          "output_type": "execute_result",
          "data": {
            "text/plain": [
              "[2, 3, 4, 5]"
            ]
          },
          "metadata": {},
          "execution_count": 14
        }
      ]
    },
    {
      "cell_type": "code",
      "source": [
        "# 재귀함수 적용 팩토리얼 함수\n",
        "def factorial1(num):\n",
        "  if num>0:\n",
        "    return factorial(num-1) * num\n",
        "  else:\n",
        "    return 1\n",
        "print(factorial1(5))\n",
        "\n",
        "# 재귀함수를 적용하지 않은 팩토리얼 함수\n",
        "def factorial2(num):\n",
        "  result = 1 \n",
        "  for i in range(1, num+1):\n",
        "    result *= i\n",
        "  return result\n",
        "print(factorial2(5))"
      ],
      "metadata": {
        "colab": {
          "base_uri": "https://localhost:8080/"
        },
        "id": "iZ0NrC77bchU",
        "outputId": "c016562f-ef8c-481c-815d-c91108fc46ca"
      },
      "execution_count": 17,
      "outputs": [
        {
          "output_type": "stream",
          "name": "stdout",
          "text": [
            "120\n",
            "120\n"
          ]
        }
      ]
    },
    {
      "cell_type": "code",
      "source": [
        ""
      ],
      "metadata": {
        "id": "QOlyVLFNcEXu"
      },
      "execution_count": null,
      "outputs": []
    }
  ]
}