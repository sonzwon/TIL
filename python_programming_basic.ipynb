{
  "nbformat": 4,
  "nbformat_minor": 0,
  "metadata": {
    "colab": {
      "name": "python_programming_basic",
      "provenance": [],
      "authorship_tag": "ABX9TyPKhXRbItXcKOjHFG+E38td",
      "include_colab_link": true
    },
    "kernelspec": {
      "name": "python3",
      "display_name": "Python 3"
    },
    "language_info": {
      "name": "python"
    }
  },
  "cells": [
    {
      "cell_type": "markdown",
      "metadata": {
        "id": "view-in-github",
        "colab_type": "text"
      },
      "source": [
        "<a href=\"https://colab.research.google.com/github/sonzwon/TIL/blob/master/python_programming_basic.ipynb\" target=\"_parent\"><img src=\"https://colab.research.google.com/assets/colab-badge.svg\" alt=\"Open In Colab\"/></a>"
      ]
    },
    {
      "cell_type": "markdown",
      "source": [
        "# 함수"
      ],
      "metadata": {
        "id": "vrUurBoNT2OC"
      }
    },
    {
      "cell_type": "code",
      "source": [
        "# 재귀함수\n",
        "def func(count):\n",
        "  if count>0:\n",
        "    print(count, '현재')\n",
        "    func(count-1)\n",
        "  print('결과',count)\n",
        "func(5)"
      ],
      "metadata": {
        "colab": {
          "base_uri": "https://localhost:8080/"
        },
        "id": "aGgI8J-XsHND",
        "outputId": "2ded1247-b84f-47ba-d878-01f87a6c9661"
      },
      "execution_count": 2,
      "outputs": [
        {
          "output_type": "stream",
          "name": "stdout",
          "text": [
            "5 현재\n",
            "4 현재\n",
            "3 현재\n",
            "2 현재\n",
            "1 현재\n",
            "결과 0\n",
            "결과 1\n",
            "결과 2\n",
            "결과 3\n",
            "결과 4\n",
            "결과 5\n"
          ]
        }
      ]
    },
    {
      "cell_type": "code",
      "source": [
        "def no_idea():\n",
        "  print('나는 아무 생각이 없어요')\n",
        "no_idea()"
      ],
      "metadata": {
        "colab": {
          "base_uri": "https://localhost:8080/"
        },
        "id": "Pi_yaFoRUTHT",
        "outputId": "76b2662f-d00c-4092-b56f-8b3cc3387861"
      },
      "execution_count": 3,
      "outputs": [
        {
          "output_type": "stream",
          "name": "stdout",
          "text": [
            "나는 아무 생각이 없어요\n"
          ]
        }
      ]
    },
    {
      "cell_type": "code",
      "source": [
        "x = [23, 45, 76]\n",
        "for i, s in enumerate(x):\n",
        "  print(i, ':', s)"
      ],
      "metadata": {
        "colab": {
          "base_uri": "https://localhost:8080/"
        },
        "id": "MaUm-AtoUflt",
        "outputId": "d2c72c75-c9ca-4c72-9847-b5b18733e5e1"
      },
      "execution_count": 1,
      "outputs": [
        {
          "output_type": "stream",
          "name": "stdout",
          "text": [
            "0 : 23\n",
            "1 : 45\n",
            "2 : 76\n"
          ]
        }
      ]
    },
    {
      "cell_type": "code",
      "source": [
        "result = map(lambda x:x+1, (1,2,3,4))\n",
        "print(list(result))"
      ],
      "metadata": {
        "colab": {
          "base_uri": "https://localhost:8080/"
        },
        "id": "LvqQKAeu66Zi",
        "outputId": "b0b56ee3-bcc0-45df-9a64-45f54fa5a9df"
      },
      "execution_count": 3,
      "outputs": [
        {
          "output_type": "stream",
          "name": "stdout",
          "text": [
            "[2, 3, 4, 5]\n"
          ]
        }
      ]
    },
    {
      "cell_type": "code",
      "source": [
        "def fat1(num):\n",
        "  if num > 0:\n",
        "    return fat1(num-1) * num\n",
        "  else:\n",
        "    return 1\n",
        "fat1(5)  #1*2*3*4*5"
      ],
      "metadata": {
        "colab": {
          "base_uri": "https://localhost:8080/"
        },
        "id": "ANuishcE7Hf9",
        "outputId": "cccfb46c-d158-4993-f9b0-744a29e0da6d"
      },
      "execution_count": 4,
      "outputs": [
        {
          "output_type": "execute_result",
          "data": {
            "text/plain": [
              "120"
            ]
          },
          "metadata": {},
          "execution_count": 4
        }
      ]
    },
    {
      "cell_type": "code",
      "source": [
        "def fat2(num):\n",
        "  result = 1\n",
        "  for i in range(1,num+1):\n",
        "    result *= i\n",
        "  return result\n",
        "print(fat2(5))"
      ],
      "metadata": {
        "colab": {
          "base_uri": "https://localhost:8080/"
        },
        "id": "bNub23oC7qNi",
        "outputId": "b53d9d7c-a3f1-4b73-9b3d-a80c182e4b52"
      },
      "execution_count": 5,
      "outputs": [
        {
          "output_type": "stream",
          "name": "stdout",
          "text": [
            "120\n"
          ]
        }
      ]
    },
    {
      "cell_type": "code",
      "source": [
        "li = [1,2,3,4,5,6,7]\n",
        "list(filter(lambda x:x%2!=0, li))"
      ],
      "metadata": {
        "colab": {
          "base_uri": "https://localhost:8080/"
        },
        "id": "bTD9H7kE8P8K",
        "outputId": "a309d2d5-8893-4f05-fe12-826691cad7fb"
      },
      "execution_count": 2,
      "outputs": [
        {
          "output_type": "execute_result",
          "data": {
            "text/plain": [
              "[1, 3, 5, 7]"
            ]
          },
          "metadata": {},
          "execution_count": 2
        }
      ]
    },
    {
      "cell_type": "code",
      "source": [
        "import os\n",
        "os.environ"
      ],
      "metadata": {
        "colab": {
          "base_uri": "https://localhost:8080/"
        },
        "id": "8UcuoEuFQdFB",
        "outputId": "1cd735f5-73d8-4b30-d826-e6299ad8904d"
      },
      "execution_count": 3,
      "outputs": [
        {
          "output_type": "execute_result",
          "data": {
            "text/plain": [
              "environ({'CUDNN_VERSION': '8.0.5.39', 'LD_LIBRARY_PATH': '/usr/local/nvidia/lib:/usr/local/nvidia/lib64', 'CLOUDSDK_PYTHON': 'python3', 'LANG': 'en_US.UTF-8', 'HOSTNAME': '1118e6142700', 'OLDPWD': '/', 'CLOUDSDK_CONFIG': '/content/.config', 'NVIDIA_VISIBLE_DEVICES': 'all', 'DATALAB_SETTINGS_OVERRIDES': '{\"kernelManagerProxyPort\":6000,\"kernelManagerProxyHost\":\"172.28.0.3\",\"jupyterArgs\":[\"--ip=172.28.0.2\"],\"debugAdapterMultiplexerPath\":\"/usr/local/bin/dap_multiplexer\",\"enableLsp\":true}', 'ENV': '/root/.bashrc', 'NCCL_VERSION': '2.7.8', 'TF_FORCE_GPU_ALLOW_GROWTH': 'true', 'NO_GCE_CHECK': 'False', 'PWD': '/', 'HOME': '/root', 'LAST_FORCED_REBUILD': '20220614', 'DEBIAN_FRONTEND': 'noninteractive', 'LIBRARY_PATH': '/usr/local/cuda/lib64/stubs', 'GCE_METADATA_TIMEOUT': '3', 'GLIBCPP_FORCE_NEW': '1', 'TBE_CREDS_ADDR': '172.28.0.1:8008', 'SHELL': '/bin/bash', 'GCS_READ_CACHE_BLOCK_SIZE_MB': '16', 'PYTHONWARNINGS': 'ignore:::pip._internal.cli.base_command', 'CUDA_VERSION': '11.1.1', 'NVIDIA_DRIVER_CAPABILITIES': 'compute,utility', 'SHLVL': '0', 'PYTHONPATH': '/env/python', 'NVIDIA_REQUIRE_CUDA': 'cuda>=11.1 brand=tesla,driver>=418,driver<419 brand=tesla,driver>=440,driver<441 brand=tesla,driver>=450,driver<451', 'TBE_EPHEM_CREDS_ADDR': '172.28.0.1:8009', 'COLAB_GPU': '0', 'GLIBCXX_FORCE_NEW': '1', 'PATH': '/opt/bin:/usr/local/nvidia/bin:/usr/local/cuda/bin:/usr/local/sbin:/usr/local/bin:/usr/sbin:/usr/bin:/sbin:/bin:/tools/node/bin:/tools/google-cloud-sdk/bin', 'LD_PRELOAD': '/usr/lib/x86_64-linux-gnu/libtcmalloc.so.4', 'JPY_PARENT_PID': '42', 'TERM': 'xterm-color', 'CLICOLOR': '1', 'PAGER': 'cat', 'GIT_PAGER': 'cat', 'MPLBACKEND': 'module://ipykernel.pylab.backend_inline', 'ENABLE_DIRECTORYPREFETCHER': '1', 'USE_AUTH_EPHEM': '1', 'PYDEVD_USE_FRAME_EVAL': 'NO'})"
            ]
          },
          "metadata": {},
          "execution_count": 3
        }
      ]
    },
    {
      "cell_type": "code",
      "source": [
        "li = [0,1,2,3,4,5,6,7,8,9,10]\n",
        "print(list(filter(lambda x:x>5, li)))\n",
        "print(list(filter(lambda x:x%2==0, li)))"
      ],
      "metadata": {
        "colab": {
          "base_uri": "https://localhost:8080/"
        },
        "id": "ixPqQuriRD0w",
        "outputId": "004448bb-7810-42ff-ead1-ff34f9616313"
      },
      "execution_count": 4,
      "outputs": [
        {
          "output_type": "stream",
          "name": "stdout",
          "text": [
            "[6, 7, 8, 9, 10]\n",
            "[0, 2, 4, 6, 8, 10]\n"
          ]
        }
      ]
    },
    {
      "cell_type": "code",
      "source": [
        "def print_something(v):\n",
        "  print(v)\n",
        "f = print_something\n",
        "f(123)   #변수에 함수명을 저장해서 사용가능"
      ],
      "metadata": {
        "colab": {
          "base_uri": "https://localhost:8080/"
        },
        "id": "d1qaSOpNRhzD",
        "outputId": "757c24ab-3079-4884-b325-29572a60c88e"
      },
      "execution_count": 5,
      "outputs": [
        {
          "output_type": "stream",
          "name": "stdout",
          "text": [
            "123\n"
          ]
        }
      ]
    },
    {
      "cell_type": "code",
      "source": [
        "def plus(x,y):\n",
        "  print(x+y)\n",
        "def minus(x,y):\n",
        "  print(x-y)\n",
        "f = [plus, minus]  #list에 함수명을 담아서 사용가능\n",
        "f[0](2,3)\n",
        "f[1](5,1)"
      ],
      "metadata": {
        "colab": {
          "base_uri": "https://localhost:8080/"
        },
        "id": "Qdx1uy10SAzq",
        "outputId": "c90921b9-9782-4a5d-aa9d-75b6394f7db5"
      },
      "execution_count": 6,
      "outputs": [
        {
          "output_type": "stream",
          "name": "stdout",
          "text": [
            "5\n",
            "4\n"
          ]
        }
      ]
    },
    {
      "cell_type": "code",
      "source": [
        "#함수이름을 매개변수처럼 사용\n",
        "def hello():\n",
        "  print('hello')\n",
        "def annyoung():\n",
        "  print('안녕')\n",
        "def greet(f):\n",
        "  f()\n",
        "greet(hello)\n",
        "greet(annyoung)"
      ],
      "metadata": {
        "colab": {
          "base_uri": "https://localhost:8080/"
        },
        "id": "1E3c7DG3SZTk",
        "outputId": "b9efbd00-b15b-4d59-b74d-782e83fee0e8"
      },
      "execution_count": 8,
      "outputs": [
        {
          "output_type": "stream",
          "name": "stdout",
          "text": [
            "hello\n",
            "안녕\n"
          ]
        }
      ]
    },
    {
      "cell_type": "code",
      "source": [
        "def hello():\n",
        "  print('hello')\n",
        "def annyoung():\n",
        "  print('안녕')\n",
        "def greet(f):\n",
        "  if f=='k':\n",
        "    result = annyoung()\n",
        "  else:\n",
        "    result = hello()\n",
        "  return result\n",
        "\n",
        "greet('k')\n",
        "greet('e')"
      ],
      "metadata": {
        "colab": {
          "base_uri": "https://localhost:8080/"
        },
        "id": "ViIeN5oKTBjt",
        "outputId": "d936fbba-5df6-429c-c627-33eb61099d90"
      },
      "execution_count": 10,
      "outputs": [
        {
          "output_type": "stream",
          "name": "stdout",
          "text": [
            "안녕\n",
            "hello\n"
          ]
        }
      ]
    },
    {
      "cell_type": "code",
      "source": [
        "def insertion_sort(some_list):\n",
        "  for i in range(len(some_list)):\n",
        "    key = some_list[i]\n",
        "    j = i-1\n",
        "    while j >= 0 and some_list[j] > key:\n",
        "      some_list[j+1] = some_list[j]\n",
        "      j -= 1 \n",
        "    some_list[j+1] = key\n",
        "some_list = [11,3,6,4,12,1,2]\n",
        "insertion_sort(some_list)\n",
        "print(some_list)\n",
        "\n",
        "\n",
        "#내가 만들어본 리스트정렬 함수\n",
        "#리스트에서 최소값 뽑아서 새로운 리스트에 넣어줌\n",
        "def make_def(some_list):\n",
        "  new_list = []\n",
        "  while True:\n",
        "      m = min(some_list)\n",
        "      new_list.append(m)\n",
        "      some_list.remove(m)\n",
        "      if some_list == []:\n",
        "          break\n",
        "  return new_list\n",
        "make_def(some_list)"
      ],
      "metadata": {
        "colab": {
          "base_uri": "https://localhost:8080/"
        },
        "id": "VeWyxYx2Ts7m",
        "outputId": "0e68d382-d31a-4f61-fd60-ae2716a4097f"
      },
      "execution_count": 12,
      "outputs": [
        {
          "output_type": "stream",
          "name": "stdout",
          "text": [
            "[1, 2, 3, 4, 6, 11, 12]\n"
          ]
        }
      ]
    },
    {
      "cell_type": "code",
      "source": [
        "def f1():\n",
        "  return 1\n",
        "print(f1())\n",
        "\n",
        "f = lambda : 1\n",
        "print(f())"
      ],
      "metadata": {
        "colab": {
          "base_uri": "https://localhost:8080/"
        },
        "id": "2xzF1ZpCjVqK",
        "outputId": "3691adeb-8d70-4db6-90ea-46735c82bfa2"
      },
      "execution_count": 6,
      "outputs": [
        {
          "output_type": "stream",
          "name": "stdout",
          "text": [
            "1\n",
            "1\n"
          ]
        }
      ]
    },
    {
      "cell_type": "code",
      "source": [
        "def f2(x,y):\n",
        "  return x+y\n",
        "\n",
        "f3 = lambda x,y : x+y\n",
        "\n",
        "print(f2(3,6))\n",
        "print(f3(3,6))"
      ],
      "metadata": {
        "colab": {
          "base_uri": "https://localhost:8080/"
        },
        "id": "mUkB05uekXFj",
        "outputId": "1e2e9440-e008-4d39-8695-df4606b5393a"
      },
      "execution_count": 8,
      "outputs": [
        {
          "output_type": "stream",
          "name": "stdout",
          "text": [
            "9\n",
            "9\n"
          ]
        }
      ]
    },
    {
      "cell_type": "code",
      "source": [
        "def f1(x):\n",
        "  return x*x\n",
        "list1 = [1,2,3,4,5]\n",
        "list2 = []\n",
        "for i in list1:\n",
        "  list2.append(f1(i))\n",
        "print(list2)\n",
        "\n",
        "result = list(map(f1, list1))\n",
        "print(result)\n",
        "\n",
        "result1 = list(map(lambda x:x*x, list1))\n",
        "print(result1)"
      ],
      "metadata": {
        "colab": {
          "base_uri": "https://localhost:8080/"
        },
        "id": "mGuTjmcskvnh",
        "outputId": "2b764282-02f9-4a11-e872-3c5166543d86"
      },
      "execution_count": 10,
      "outputs": [
        {
          "output_type": "stream",
          "name": "stdout",
          "text": [
            "[1, 4, 9, 16, 25]\n",
            "[1, 4, 9, 16, 25]\n",
            "[1, 4, 9, 16, 25]\n"
          ]
        }
      ]
    },
    {
      "cell_type": "code",
      "source": [
        "a1 = [1,2,3,4,5,6,7,8,9]\n",
        "result = list(map(lambda x:x*x*x, a1))\n",
        "print(result)"
      ],
      "metadata": {
        "colab": {
          "base_uri": "https://localhost:8080/"
        },
        "id": "anltlzMBlu98",
        "outputId": "d072e717-d33a-4e89-df58-b305374b0ff5"
      },
      "execution_count": 12,
      "outputs": [
        {
          "output_type": "stream",
          "name": "stdout",
          "text": [
            "[1, 8, 27, 64, 125, 216, 343, 512, 729]\n"
          ]
        }
      ]
    },
    {
      "cell_type": "code",
      "source": [
        "score = [12,67,99]\n",
        "name = 'hellopython'\n",
        "print(min(score))\n",
        "print(max(score))\n",
        "print(min(name))\n",
        "print(max(name))"
      ],
      "metadata": {
        "colab": {
          "base_uri": "https://localhost:8080/"
        },
        "id": "lbeM0GjqmUH0",
        "outputId": "b214b065-65e3-48aa-c2a3-b18b02218c39"
      },
      "execution_count": 13,
      "outputs": [
        {
          "output_type": "stream",
          "name": "stdout",
          "text": [
            "12\n",
            "99\n",
            "e\n",
            "y\n"
          ]
        }
      ]
    },
    {
      "cell_type": "code",
      "source": [
        "import os\n",
        "print(os.environ)\n",
        "print(os.environ['PATH'])\n",
        "\n",
        "print(os.chdir('/'))\n",
        "print(os.getcwd)"
      ],
      "metadata": {
        "colab": {
          "base_uri": "https://localhost:8080/"
        },
        "id": "C1ocif-6m6Lf",
        "outputId": "c3b42cc6-5135-43cb-edec-a6eed6fd6f36"
      },
      "execution_count": 18,
      "outputs": [
        {
          "output_type": "stream",
          "name": "stdout",
          "text": [
            "environ({'CUDNN_VERSION': '8.0.5.39', 'LD_LIBRARY_PATH': '/usr/local/nvidia/lib:/usr/local/nvidia/lib64', 'CLOUDSDK_PYTHON': 'python3', 'LANG': 'en_US.UTF-8', 'HOSTNAME': '07a16610dd5c', 'OLDPWD': '/', 'CLOUDSDK_CONFIG': '/content/.config', 'NVIDIA_VISIBLE_DEVICES': 'all', 'DATALAB_SETTINGS_OVERRIDES': '{\"kernelManagerProxyPort\":6000,\"kernelManagerProxyHost\":\"172.28.0.3\",\"jupyterArgs\":[\"--ip=172.28.0.2\"],\"debugAdapterMultiplexerPath\":\"/usr/local/bin/dap_multiplexer\",\"enableLsp\":true}', 'ENV': '/root/.bashrc', 'NCCL_VERSION': '2.7.8', 'TF_FORCE_GPU_ALLOW_GROWTH': 'true', 'NO_GCE_CHECK': 'False', 'PWD': '/', 'HOME': '/root', 'LAST_FORCED_REBUILD': '20220628', 'DEBIAN_FRONTEND': 'noninteractive', 'LIBRARY_PATH': '/usr/local/cuda/lib64/stubs', 'GCE_METADATA_TIMEOUT': '3', 'GLIBCPP_FORCE_NEW': '1', 'TBE_CREDS_ADDR': '172.28.0.1:8008', 'SHELL': '/bin/bash', 'GCS_READ_CACHE_BLOCK_SIZE_MB': '16', 'PYTHONWARNINGS': 'ignore:::pip._internal.cli.base_command', 'CUDA_VERSION': '11.1.1', 'NVIDIA_DRIVER_CAPABILITIES': 'compute,utility', 'SHLVL': '0', 'PYTHONPATH': '/env/python', 'NVIDIA_REQUIRE_CUDA': 'cuda>=11.1 brand=tesla,driver>=418,driver<419 brand=tesla,driver>=440,driver<441 brand=tesla,driver>=450,driver<451', 'TBE_EPHEM_CREDS_ADDR': '172.28.0.1:8009', 'COLAB_GPU': '0', 'GLIBCXX_FORCE_NEW': '1', 'PATH': '/opt/bin:/usr/local/nvidia/bin:/usr/local/cuda/bin:/usr/local/sbin:/usr/local/bin:/usr/sbin:/usr/bin:/sbin:/bin:/tools/node/bin:/tools/google-cloud-sdk/bin', 'LD_PRELOAD': '/usr/lib/x86_64-linux-gnu/libtcmalloc.so.4', 'JPY_PARENT_PID': '45', 'TERM': 'xterm-color', 'CLICOLOR': '1', 'PAGER': 'cat', 'GIT_PAGER': 'cat', 'MPLBACKEND': 'module://ipykernel.pylab.backend_inline', 'ENABLE_DIRECTORYPREFETCHER': '1', 'USE_AUTH_EPHEM': '1', 'PYDEVD_USE_FRAME_EVAL': 'NO'})\n",
            "/opt/bin:/usr/local/nvidia/bin:/usr/local/cuda/bin:/usr/local/sbin:/usr/local/bin:/usr/sbin:/usr/bin:/sbin:/bin:/tools/node/bin:/tools/google-cloud-sdk/bin\n",
            "None\n",
            "<built-in function getcwd>\n"
          ]
        }
      ]
    },
    {
      "cell_type": "code",
      "source": [
        "import random\n",
        "print(random.random())   #random모듈의 random함수(0~1 실수)\n",
        "print(random.randint(1,10))   #randint함수(1~10 정수)\n",
        "\n",
        "data = [1,2,3,4,5,6]\n",
        "random.shuffle(data)\n",
        "print(data)"
      ],
      "metadata": {
        "colab": {
          "base_uri": "https://localhost:8080/"
        },
        "id": "V_3TE9dPnE_2",
        "outputId": "702ae028-eaa3-4873-8f43-51b078a046ac"
      },
      "execution_count": 21,
      "outputs": [
        {
          "output_type": "stream",
          "name": "stdout",
          "text": [
            "0.6550420105622413\n",
            "10\n",
            "[6, 3, 4, 2, 5, 1]\n"
          ]
        }
      ]
    },
    {
      "cell_type": "code",
      "source": [
        "def rec_sum(x,y):\n",
        "  if y>0:\n",
        "    x += y\n",
        "    rec_sum(x, y-1)\n",
        "  else:\n",
        "    print('합계 :',x)\n",
        "rec_sum(5,10) #5+10+9+8+7+6+5+4+3+2+1"
      ],
      "metadata": {
        "colab": {
          "base_uri": "https://localhost:8080/"
        },
        "id": "tCh5OagVndEB",
        "outputId": "0ac58667-9d43-415b-f705-2218bf6311bc"
      },
      "execution_count": 22,
      "outputs": [
        {
          "output_type": "stream",
          "name": "stdout",
          "text": [
            "합계 : 60\n"
          ]
        }
      ]
    },
    {
      "cell_type": "code",
      "source": [
        "def rec_f(num):\n",
        "  if num>0:\n",
        "    print(num)\n",
        "    rec_f(num-1)\n",
        "  else:\n",
        "    print('끝!')\n",
        "rec_f(5)"
      ],
      "metadata": {
        "colab": {
          "base_uri": "https://localhost:8080/"
        },
        "id": "R2D8GvB6odzx",
        "outputId": "2b2afdda-5e13-455b-d007-e46af63d0a94"
      },
      "execution_count": 25,
      "outputs": [
        {
          "output_type": "stream",
          "name": "stdout",
          "text": [
            "5\n",
            "4\n",
            "3\n",
            "2\n",
            "1\n",
            "끝!\n"
          ]
        }
      ]
    },
    {
      "cell_type": "code",
      "source": [
        "li = [78,34,67,99]\n",
        "print(sorted(li))   #li를 정렬해서 보여줘\n",
        "print(sorted(li, reverse=True))\n",
        "print(li)\n",
        "\n",
        "li.sort()           #원본 li를 정렬해라\n",
        "print(li)"
      ],
      "metadata": {
        "colab": {
          "base_uri": "https://localhost:8080/"
        },
        "id": "7Pc2V0rPprjR",
        "outputId": "9eb450c6-b4a9-4e4e-936d-7b0df652d422"
      },
      "execution_count": 31,
      "outputs": [
        {
          "output_type": "stream",
          "name": "stdout",
          "text": [
            "[34, 67, 78, 99]\n",
            "[99, 78, 67, 34]\n",
            "[78, 34, 67, 99]\n",
            "[34, 67, 78, 99]\n"
          ]
        }
      ]
    },
    {
      "cell_type": "code",
      "source": [
        "import sys\n",
        "print(sys.path)"
      ],
      "metadata": {
        "colab": {
          "base_uri": "https://localhost:8080/"
        },
        "id": "ZQvgAL3Np-cJ",
        "outputId": "159a73f8-00f0-4547-996e-6ff7613ecc8c"
      },
      "execution_count": 32,
      "outputs": [
        {
          "output_type": "stream",
          "name": "stdout",
          "text": [
            "['', '/content', '/env/python', '/usr/lib/python37.zip', '/usr/lib/python3.7', '/usr/lib/python3.7/lib-dynload', '/usr/local/lib/python3.7/dist-packages', '/usr/lib/python3/dist-packages', '/usr/local/lib/python3.7/dist-packages/IPython/extensions', '/root/.ipython']\n"
          ]
        }
      ]
    },
    {
      "cell_type": "code",
      "source": [
        "import time\n",
        "print(time.time())  #time모듈의 time함수\n",
        "print(time.localtime(time.time()))\n",
        "print(time.strftime('%B/%d/%Y(%A), %H:%M:%S', time.localtime(time.time())))"
      ],
      "metadata": {
        "colab": {
          "base_uri": "https://localhost:8080/"
        },
        "id": "niP2ZPGpqiiu",
        "outputId": "5aedd4f1-0c09-4e39-e30c-4d1e7bac523e"
      },
      "execution_count": 36,
      "outputs": [
        {
          "output_type": "stream",
          "name": "stdout",
          "text": [
            "1656677528.1435354\n",
            "time.struct_time(tm_year=2022, tm_mon=7, tm_mday=1, tm_hour=12, tm_min=12, tm_sec=8, tm_wday=4, tm_yday=182, tm_isdst=0)\n",
            "July/01/2022(Friday), 12:12:08\n"
          ]
        }
      ]
    },
    {
      "cell_type": "code",
      "source": [
        "import time\n",
        "print('지원 좋아')\n",
        "time.sleep(2)\n",
        "print('나도 좋아')"
      ],
      "metadata": {
        "colab": {
          "base_uri": "https://localhost:8080/"
        },
        "id": "ldlIwnDZqiyt",
        "outputId": "01278b69-9d47-4973-be9c-d85f85fe7538"
      },
      "execution_count": 37,
      "outputs": [
        {
          "output_type": "stream",
          "name": "stdout",
          "text": [
            "지원 좋아\n",
            "나도 좋아\n"
          ]
        }
      ]
    },
    {
      "cell_type": "code",
      "source": [
        "a1 = [90,85,98,50,90,100,85,75,85,80]\n",
        "a2 = [95,90,90,90,95,100,90,80,95,90]\n",
        "\n",
        "a = list(zip(a1,a2))  #두 리스트를 튜플형식으로 묶어줌\n",
        "print(a)\n",
        "\n",
        "for i,j in a:\n",
        "  print(i+j)"
      ],
      "metadata": {
        "colab": {
          "base_uri": "https://localhost:8080/"
        },
        "id": "0G8UDIjxqi4Z",
        "outputId": "3f011d1d-4349-42a9-cefd-7f4cfaf9891f"
      },
      "execution_count": 40,
      "outputs": [
        {
          "output_type": "stream",
          "name": "stdout",
          "text": [
            "[(90, 95), (85, 90), (98, 90), (50, 90), (90, 95), (100, 100), (85, 90), (75, 80), (85, 95), (80, 90)]\n",
            "185\n",
            "175\n",
            "188\n",
            "140\n",
            "185\n",
            "200\n",
            "175\n",
            "155\n",
            "180\n",
            "170\n"
          ]
        }
      ]
    },
    {
      "cell_type": "code",
      "source": [
        ""
      ],
      "metadata": {
        "id": "v2kRR_9lqi-8"
      },
      "execution_count": null,
      "outputs": []
    },
    {
      "cell_type": "code",
      "source": [
        ""
      ],
      "metadata": {
        "id": "ukyheMnEqhIu"
      },
      "execution_count": null,
      "outputs": []
    }
  ]
}