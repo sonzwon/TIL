{
  "nbformat": 4,
  "nbformat_minor": 0,
  "metadata": {
    "colab": {
      "name": "tensorflow_basic",
      "provenance": [],
      "authorship_tag": "ABX9TyMP0pDJjpoUwU59WlYMazBy",
      "include_colab_link": true
    },
    "kernelspec": {
      "name": "python3",
      "display_name": "Python 3"
    },
    "language_info": {
      "name": "python"
    }
  },
  "cells": [
    {
      "cell_type": "markdown",
      "metadata": {
        "id": "view-in-github",
        "colab_type": "text"
      },
      "source": [
        "<a href=\"https://colab.research.google.com/github/sonzwon/TIL/blob/master/tensorflow_basic.ipynb\" target=\"_parent\"><img src=\"https://colab.research.google.com/assets/colab-badge.svg\" alt=\"Open In Colab\"/></a>"
      ]
    },
    {
      "cell_type": "code",
      "execution_count": 2,
      "metadata": {
        "id": "lY6Q4JLvMulj"
      },
      "outputs": [],
      "source": [
        "import tensorflow as tf\n",
        "from tensorflow import keras"
      ]
    },
    {
      "cell_type": "code",
      "source": [
        "print(tf.__version__)"
      ],
      "metadata": {
        "colab": {
          "base_uri": "https://localhost:8080/"
        },
        "id": "jiaBckA4My99",
        "outputId": "00d4e036-ef3d-42ff-8d52-3b4ee70c658d"
      },
      "execution_count": 3,
      "outputs": [
        {
          "output_type": "stream",
          "name": "stdout",
          "text": [
            "2.8.2\n"
          ]
        }
      ]
    },
    {
      "cell_type": "markdown",
      "source": [
        "# Tensor\n",
        "tensor은 multi-dimensional array를 나타내는 말로, Tensorflow의 기본 data type입니다."
      ],
      "metadata": {
        "id": "Z9ZfnnuW9pGj"
      }
    },
    {
      "cell_type": "code",
      "source": [
        "# tensor 생성\n",
        "test = tf.constant([3,3], dtype=tf.float32)\n",
        "hello = tf.constant('hello world')\n",
        "x = tf.constant([[1.0, 2.0],\n",
        "                [3.0, 4.0]])\n",
        "print(test)\n",
        "print(hello)\n",
        "print(x)\n",
        "print(type(x))"
      ],
      "metadata": {
        "colab": {
          "base_uri": "https://localhost:8080/"
        },
        "id": "S6X0Z1v4N2L9",
        "outputId": "2d085f05-d764-4a36-f2ff-11fc7a3a28d2"
      },
      "execution_count": 8,
      "outputs": [
        {
          "output_type": "stream",
          "name": "stdout",
          "text": [
            "tf.Tensor([3. 3.], shape=(2,), dtype=float32)\n",
            "tf.Tensor(b'hello world', shape=(), dtype=string)\n",
            "tf.Tensor(\n",
            "[[1. 2.]\n",
            " [3. 4.]], shape=(2, 2), dtype=float32)\n",
            "<class 'tensorflow.python.framework.ops.EagerTensor'>\n"
          ]
        }
      ]
    },
    {
      "cell_type": "code",
      "source": [
        "import numpy as np\n",
        "# numpy ndarray / list -> tensor\n",
        "x_np = np.array([[1.0, 2.0],\n",
        "                 [3.0, 4.0]])\n",
        "x_list = [[1.0, 2.0],\n",
        "          [3.0, 4.0]]\n",
        "print(type(x_np))\n",
        "print(type(x_list))\n",
        "x_np = tf.convert_to_tensor(x_np)\n",
        "x_list = tf.convert_to_tensor(x_list)\n",
        "print(type(x_np))\n",
        "print(type(x_list))\n",
        "\n",
        "# tensor -> numpy ndarray / list\n",
        "x = tf.constant([[1.0, 2.0],\n",
        "                [3.0, 4.0]])\n",
        "x1 = tf.constant([[5.0, 6.0],\n",
        "                [7.0, 8.0]])\n",
        "x = x.numpy()\n",
        "print(type(x))\n",
        "x1 = list(x1)\n",
        "print(type(x1))"
      ],
      "metadata": {
        "colab": {
          "base_uri": "https://localhost:8080/"
        },
        "id": "syIHm7KI-H8S",
        "outputId": "00797e0a-e72c-45ef-ba04-692099d3bd4e"
      },
      "execution_count": 12,
      "outputs": [
        {
          "output_type": "stream",
          "name": "stdout",
          "text": [
            "<class 'numpy.ndarray'>\n",
            "<class 'list'>\n",
            "<class 'tensorflow.python.framework.ops.EagerTensor'>\n",
            "<class 'tensorflow.python.framework.ops.EagerTensor'>\n",
            "<class 'numpy.ndarray'>\n",
            "<class 'list'>\n"
          ]
        }
      ]
    },
    {
      "cell_type": "code",
      "source": [
        "a = tf.ones((2,3))\n",
        "b = tf.zeros((2,3))\n",
        "c = tf.fill((3,3),2)\n",
        "print(a)\n",
        "print(b)\n",
        "print(c)\n",
        "d = tf.zeros_like(c) #shape와 dtype모두 가져옴\n",
        "e = tf.ones_like(c)\n",
        "print(d)\n",
        "print(e)\n",
        "f = tf.eye(3)\n",
        "print(f)"
      ],
      "metadata": {
        "colab": {
          "base_uri": "https://localhost:8080/"
        },
        "id": "pmOeyvy8ABT4",
        "outputId": "d4231531-0be6-450b-aac1-791c757cbd68"
      },
      "execution_count": 17,
      "outputs": [
        {
          "output_type": "stream",
          "name": "stdout",
          "text": [
            "tf.Tensor(\n",
            "[[1. 1. 1.]\n",
            " [1. 1. 1.]], shape=(2, 3), dtype=float32)\n",
            "tf.Tensor(\n",
            "[[0. 0. 0.]\n",
            " [0. 0. 0.]], shape=(2, 3), dtype=float32)\n",
            "tf.Tensor(\n",
            "[[2 2 2]\n",
            " [2 2 2]\n",
            " [2 2 2]], shape=(3, 3), dtype=int32)\n",
            "tf.Tensor(\n",
            "[[0 0 0]\n",
            " [0 0 0]\n",
            " [0 0 0]], shape=(3, 3), dtype=int32)\n",
            "tf.Tensor(\n",
            "[[1 1 1]\n",
            " [1 1 1]\n",
            " [1 1 1]], shape=(3, 3), dtype=int32)\n",
            "tf.Tensor(\n",
            "[[1. 0. 0.]\n",
            " [0. 1. 0.]\n",
            " [0. 0. 1.]], shape=(3, 3), dtype=float32)\n"
          ]
        }
      ]
    },
    {
      "cell_type": "code",
      "source": [
        "g = tf.range(10)\n",
        "print(g)"
      ],
      "metadata": {
        "colab": {
          "base_uri": "https://localhost:8080/"
        },
        "id": "3RZWySiSBJBg",
        "outputId": "21db7828-1de7-4c52-8c7a-e6d18581932d"
      },
      "execution_count": 18,
      "outputs": [
        {
          "output_type": "stream",
          "name": "stdout",
          "text": [
            "tf.Tensor([0 1 2 3 4 5 6 7 8 9], shape=(10,), dtype=int32)\n"
          ]
        }
      ]
    },
    {
      "cell_type": "code",
      "source": [
        "h = tf.random.uniform((2,2)) # np.rand : 0~1사이 랜덤값\n",
        "i = tf.random.normal((2,2))  # np.randn : 임의의 랜덤 값\n",
        "print(h)\n",
        "print(i)"
      ],
      "metadata": {
        "colab": {
          "base_uri": "https://localhost:8080/"
        },
        "id": "hgkFA2ySBUqZ",
        "outputId": "fedd1d60-fdde-497d-f7bb-0825db1d0215"
      },
      "execution_count": 19,
      "outputs": [
        {
          "output_type": "stream",
          "name": "stdout",
          "text": [
            "tf.Tensor(\n",
            "[[0.26140845 0.38252342]\n",
            " [0.75765276 0.22411609]], shape=(2, 2), dtype=float32)\n",
            "tf.Tensor(\n",
            "[[ 0.08398035  0.69155985]\n",
            " [ 0.48157054 -0.17531906]], shape=(2, 2), dtype=float32)\n"
          ]
        }
      ]
    },
    {
      "cell_type": "markdown",
      "source": [
        "tensor 속성"
      ],
      "metadata": {
        "id": "jT_u_eSyCh6F"
      }
    },
    {
      "cell_type": "code",
      "source": [
        "# 속성 변경\n",
        "tensor = tf.random.normal((3,4))\n",
        "print('tensor shape : ',(tensor.shape), 'tensor dtype : ', (tensor.dtype))\n",
        "tensor = tf.reshape(tensor, (2,6)) # shape 변경\n",
        "tensor = tf.cast(tensor, tf.int32) # dtype 변경\n",
        "print('tensor shape : ',(tensor.shape), 'tensor dtype : ', (tensor.dtype))"
      ],
      "metadata": {
        "colab": {
          "base_uri": "https://localhost:8080/"
        },
        "id": "weZNtsW2CJYZ",
        "outputId": "1e62c8b9-f167-4214-eded-dd8c5920883e"
      },
      "execution_count": 24,
      "outputs": [
        {
          "output_type": "stream",
          "name": "stdout",
          "text": [
            "tensor shape :  (3, 4) tensor dtype :  <dtype: 'float32'>\n",
            "tensor shape :  (2, 6) tensor dtype :  <dtype: 'int32'>\n"
          ]
        }
      ]
    },
    {
      "cell_type": "markdown",
      "source": [
        "variable\n",
        "- 변할 수 있는 상태를 저장하는데 사용되는 특별한 텐서\n",
        "- 딥러닝에서는 학습해야하는 가중치(weight, bias)들을 variable로 생성"
      ],
      "metadata": {
        "id": "b60IPpiJOuBr"
      }
    },
    {
      "cell_type": "code",
      "source": [
        "# tensor는 값 변경 불가능\n",
        "tensor = tf.ones((3,4))\n",
        "print(tensor)\n",
        "#tensor[0,0] = 2. error!\n",
        "variable = tf.Variable(tensor)\n",
        "print(variable)\n",
        "variable[0,0].assign(2) # [0,0]의 값을 2로 변경\n",
        "print(variable)"
      ],
      "metadata": {
        "colab": {
          "base_uri": "https://localhost:8080/"
        },
        "id": "-fH0Q7aPO-qG",
        "outputId": "1a728608-85c3-459b-8bda-e3f099d17907"
      },
      "execution_count": 27,
      "outputs": [
        {
          "output_type": "stream",
          "name": "stdout",
          "text": [
            "tf.Tensor(\n",
            "[[1. 1. 1. 1.]\n",
            " [1. 1. 1. 1.]\n",
            " [1. 1. 1. 1.]], shape=(3, 4), dtype=float32)\n",
            "<tf.Variable 'Variable:0' shape=(3, 4) dtype=float32, numpy=\n",
            "array([[1., 1., 1., 1.],\n",
            "       [1., 1., 1., 1.],\n",
            "       [1., 1., 1., 1.]], dtype=float32)>\n",
            "<tf.Variable 'Variable:0' shape=(3, 4) dtype=float32, numpy=\n",
            "array([[2., 1., 1., 1.],\n",
            "       [1., 1., 1., 1.],\n",
            "       [1., 1., 1., 1.]], dtype=float32)>\n"
          ]
        }
      ]
    },
    {
      "cell_type": "code",
      "source": [
        "# 초기값을 사용해 variable 생성\n",
        "initial_value = tf.random.normal(shape=(2,2))\n",
        "weight = tf.Variable(initial_value)\n",
        "print(weight)"
      ],
      "metadata": {
        "colab": {
          "base_uri": "https://localhost:8080/"
        },
        "id": "gmRZGKUbPNzM",
        "outputId": "a2be8315-07e2-4c13-fb9c-aabe8a025310"
      },
      "execution_count": 28,
      "outputs": [
        {
          "output_type": "stream",
          "name": "stdout",
          "text": [
            "<tf.Variable 'Variable:0' shape=(2, 2) dtype=float32, numpy=\n",
            "array([[ 0.47121853, -1.3326907 ],\n",
            "       [ 0.0174006 ,  1.2123451 ]], dtype=float32)>\n"
          ]
        }
      ]
    },
    {
      "cell_type": "code",
      "source": [
        "# variable 초기화해주는 initializer\n",
        "weight = tf.Variable(tf.random_normal_initializer(mean=1. ,stddev=2.)(shape=(2,2))) # random.normal의 평균값과 표준편차 설정\n",
        "print(weight)"
      ],
      "metadata": {
        "colab": {
          "base_uri": "https://localhost:8080/"
        },
        "id": "mVghYbMHRY7H",
        "outputId": "8fa24c5e-9282-4f4b-fd9d-b8418f7eee92"
      },
      "execution_count": 29,
      "outputs": [
        {
          "output_type": "stream",
          "name": "stdout",
          "text": [
            "<tf.Variable 'Variable:0' shape=(2, 2) dtype=float32, numpy=\n",
            "array([[ 0.30254996,  1.6208167 ],\n",
            "       [-2.864692  ,  1.7647189 ]], dtype=float32)>\n"
          ]
        }
      ]
    },
    {
      "cell_type": "code",
      "source": [
        "new_value = tf.random.normal(shape=(2,2))\n",
        "print(new_value)\n",
        "weight.assign(new_value)\n",
        "print(weight)"
      ],
      "metadata": {
        "colab": {
          "base_uri": "https://localhost:8080/"
        },
        "id": "9WEq4oZGSCzO",
        "outputId": "44b2f8c6-854c-4cc2-9c31-2fa7712b79d9"
      },
      "execution_count": 30,
      "outputs": [
        {
          "output_type": "stream",
          "name": "stdout",
          "text": [
            "tf.Tensor(\n",
            "[[ 1.8092718  -0.2961966 ]\n",
            " [ 0.06057461 -0.04805629]], shape=(2, 2), dtype=float32)\n",
            "<tf.Variable 'Variable:0' shape=(2, 2) dtype=float32, numpy=\n",
            "array([[ 1.8092718 , -0.2961966 ],\n",
            "       [ 0.06057461, -0.04805629]], dtype=float32)>\n"
          ]
        }
      ]
    },
    {
      "cell_type": "code",
      "source": [
        "# 연산\n",
        "value = tf.ones((2,2))\n",
        "print(added_value)\n",
        "weight.assign_add(value)  #덧셈\n",
        "print(weight)\n",
        "weight.assign_sub(value)  #뺄셈\n",
        "print(weight)"
      ],
      "metadata": {
        "colab": {
          "base_uri": "https://localhost:8080/"
        },
        "id": "dZ60OYqsStRQ",
        "outputId": "213939c5-97c6-496e-978f-9d426572b737"
      },
      "execution_count": 33,
      "outputs": [
        {
          "output_type": "stream",
          "name": "stdout",
          "text": [
            "tf.Tensor(\n",
            "[[1. 1.]\n",
            " [1. 1.]], shape=(2, 2), dtype=float32)\n",
            "<tf.Variable 'Variable:0' shape=(2, 2) dtype=float32, numpy=\n",
            "array([[ 1.8092718 , -0.29619658],\n",
            "       [ 0.06057459, -0.04805624]], dtype=float32)>\n",
            "<tf.Variable 'Variable:0' shape=(2, 2) dtype=float32, numpy=\n",
            "array([[ 0.8092718, -1.2961966],\n",
            "       [-0.9394254, -1.0480562]], dtype=float32)>\n"
          ]
        }
      ]
    },
    {
      "cell_type": "markdown",
      "source": [
        "인덱싱/슬라이싱"
      ],
      "metadata": {
        "id": "9I0gvUneTlml"
      }
    },
    {
      "cell_type": "code",
      "source": [
        "a = tf.range(1,13)\n",
        "a = tf.reshape(a, (3,4))\n",
        "print(a)"
      ],
      "metadata": {
        "colab": {
          "base_uri": "https://localhost:8080/"
        },
        "id": "-8REp6qDS_D4",
        "outputId": "a0ec2f4c-82fe-46f8-a020-6de30cfa6cff"
      },
      "execution_count": 41,
      "outputs": [
        {
          "output_type": "stream",
          "name": "stdout",
          "text": [
            "tf.Tensor(\n",
            "[[ 1  2  3  4]\n",
            " [ 5  6  7  8]\n",
            " [ 9 10 11 12]], shape=(3, 4), dtype=int32)\n"
          ]
        }
      ]
    },
    {
      "cell_type": "code",
      "source": [
        "# indexing\n",
        "# 차원 축소\n",
        "print(a[1])\n",
        "print(a[0,-1])\n",
        "print(a[0][-1])"
      ],
      "metadata": {
        "colab": {
          "base_uri": "https://localhost:8080/"
        },
        "id": "DdBlSbodTw6a",
        "outputId": "ec1e49cf-c650-4f95-e02f-9f1f38b13fad"
      },
      "execution_count": 42,
      "outputs": [
        {
          "output_type": "stream",
          "name": "stdout",
          "text": [
            "tf.Tensor([5 6 7 8], shape=(4,), dtype=int32)\n",
            "tf.Tensor(4, shape=(), dtype=int32)\n",
            "tf.Tensor(4, shape=(), dtype=int32)\n"
          ]
        }
      ]
    },
    {
      "cell_type": "code",
      "source": [
        "# slicing\n",
        "# 차원 유지\n",
        "print(a[1:-1])\n",
        "print(a[:2,2:])"
      ],
      "metadata": {
        "colab": {
          "base_uri": "https://localhost:8080/"
        },
        "id": "DQHuDEb9T9JZ",
        "outputId": "bb69e3c7-9430-43c8-d587-e3c93d346512"
      },
      "execution_count": 47,
      "outputs": [
        {
          "output_type": "stream",
          "name": "stdout",
          "text": [
            "tf.Tensor([[5 6 7 8]], shape=(1, 4), dtype=int32)\n",
            "tf.Tensor(\n",
            "[[3 4]\n",
            " [7 8]], shape=(2, 2), dtype=int32)\n"
          ]
        }
      ]
    },
    {
      "cell_type": "markdown",
      "source": [
        "transpose"
      ],
      "metadata": {
        "id": "x9gqhUOLVDXG"
      }
    },
    {
      "cell_type": "code",
      "source": [
        "a = tf.range(16)\n",
        "a = tf.reshape(a, (2,2,-1))\n",
        "print(a)"
      ],
      "metadata": {
        "colab": {
          "base_uri": "https://localhost:8080/"
        },
        "id": "MVQg7t0JURMy",
        "outputId": "c7d6197a-df11-4b3e-b128-15e8c02fe7cc"
      },
      "execution_count": 48,
      "outputs": [
        {
          "output_type": "stream",
          "name": "stdout",
          "text": [
            "tf.Tensor(\n",
            "[[[ 0  1  2  3]\n",
            "  [ 4  5  6  7]]\n",
            "\n",
            " [[ 8  9 10 11]\n",
            "  [12 13 14 15]]], shape=(2, 2, 4), dtype=int32)\n"
          ]
        }
      ]
    },
    {
      "cell_type": "code",
      "source": [
        "b = tf.transpose(a,(2,1,0))\n",
        "print(b)"
      ],
      "metadata": {
        "colab": {
          "base_uri": "https://localhost:8080/"
        },
        "id": "mwkB5yeMVPgj",
        "outputId": "00af0e72-df97-4a0e-aabc-893273a76f63"
      },
      "execution_count": 50,
      "outputs": [
        {
          "output_type": "stream",
          "name": "stdout",
          "text": [
            "tf.Tensor(\n",
            "[[[ 0  8]\n",
            "  [ 4 12]]\n",
            "\n",
            " [[ 1  9]\n",
            "  [ 5 13]]\n",
            "\n",
            " [[ 2 10]\n",
            "  [ 6 14]]\n",
            "\n",
            " [[ 3 11]\n",
            "  [ 7 15]]], shape=(4, 2, 2), dtype=int32)\n"
          ]
        }
      ]
    },
    {
      "cell_type": "markdown",
      "source": [
        "연산"
      ],
      "metadata": {
        "id": "1u8u-QeRVxxW"
      }
    },
    {
      "cell_type": "code",
      "source": [
        "x = tf.constant([[1,2],[3,4]], dtype=tf.float32)\n",
        "y = tf.constant([[5,6],[7,8]], dtype=tf.float32)\n",
        "print(x)\n",
        "print(y)"
      ],
      "metadata": {
        "colab": {
          "base_uri": "https://localhost:8080/"
        },
        "id": "VC8S4yXwVe89",
        "outputId": "78dcc5a3-b8be-4a65-eb3b-f21fedfd8573"
      },
      "execution_count": 51,
      "outputs": [
        {
          "output_type": "stream",
          "name": "stdout",
          "text": [
            "tf.Tensor(\n",
            "[[1. 2.]\n",
            " [3. 4.]], shape=(2, 2), dtype=float32)\n",
            "tf.Tensor(\n",
            "[[5. 6.]\n",
            " [7. 8.]], shape=(2, 2), dtype=float32)\n"
          ]
        }
      ]
    },
    {
      "cell_type": "code",
      "source": [
        "print(x+y)\n",
        "print(x-y)\n",
        "print(x/y)\n",
        "print(x*y)\n",
        "print(x@y)"
      ],
      "metadata": {
        "colab": {
          "base_uri": "https://localhost:8080/"
        },
        "id": "Y3runWlwWpL3",
        "outputId": "187f43c7-9bc2-4ac2-adbd-ab2a061eda60"
      },
      "execution_count": 53,
      "outputs": [
        {
          "output_type": "stream",
          "name": "stdout",
          "text": [
            "tf.Tensor(\n",
            "[[ 6.  8.]\n",
            " [10. 12.]], shape=(2, 2), dtype=float32)\n",
            "tf.Tensor(\n",
            "[[-4. -4.]\n",
            " [-4. -4.]], shape=(2, 2), dtype=float32)\n",
            "tf.Tensor(\n",
            "[[0.2        0.33333334]\n",
            " [0.42857143 0.5       ]], shape=(2, 2), dtype=float32)\n",
            "tf.Tensor(\n",
            "[[ 5. 12.]\n",
            " [21. 32.]], shape=(2, 2), dtype=float32)\n",
            "tf.Tensor(\n",
            "[[19. 22.]\n",
            " [43. 50.]], shape=(2, 2), dtype=float32)\n"
          ]
        }
      ]
    },
    {
      "cell_type": "code",
      "source": [
        "print(tf.add(x,y))\n",
        "print(tf.subtract(x,y))\n",
        "print(tf.divide(x,y))\n",
        "print(tf.multiply(x,y))\n",
        "print(tf.matmul(x,y))"
      ],
      "metadata": {
        "colab": {
          "base_uri": "https://localhost:8080/"
        },
        "id": "83jz7qZ5W0wb",
        "outputId": "998d3712-c782-4a5c-8baa-373f345eb62b"
      },
      "execution_count": 54,
      "outputs": [
        {
          "output_type": "stream",
          "name": "stdout",
          "text": [
            "tf.Tensor(\n",
            "[[ 6.  8.]\n",
            " [10. 12.]], shape=(2, 2), dtype=float32)\n",
            "tf.Tensor(\n",
            "[[-4. -4.]\n",
            " [-4. -4.]], shape=(2, 2), dtype=float32)\n",
            "tf.Tensor(\n",
            "[[0.2        0.33333334]\n",
            " [0.42857143 0.5       ]], shape=(2, 2), dtype=float32)\n",
            "tf.Tensor(\n",
            "[[ 5. 12.]\n",
            " [21. 32.]], shape=(2, 2), dtype=float32)\n",
            "tf.Tensor(\n",
            "[[19. 22.]\n",
            " [43. 50.]], shape=(2, 2), dtype=float32)\n"
          ]
        }
      ]
    },
    {
      "cell_type": "code",
      "source": [
        "z = tf.range(1,11)\n",
        "z = tf.reshape(z, (2,5))\n",
        "print(z)"
      ],
      "metadata": {
        "colab": {
          "base_uri": "https://localhost:8080/"
        },
        "id": "buI549yYXHnn",
        "outputId": "dd87501a-b294-458a-a9d5-e92c6194cf66"
      },
      "execution_count": 55,
      "outputs": [
        {
          "output_type": "stream",
          "name": "stdout",
          "text": [
            "tf.Tensor(\n",
            "[[ 1  2  3  4  5]\n",
            " [ 6  7  8  9 10]], shape=(2, 5), dtype=int32)\n"
          ]
        }
      ]
    },
    {
      "cell_type": "code",
      "source": [
        "sum = tf.reduce_sum(z)  # 전체 데이터 다 더하기\n",
        "sum1 = tf.reduce_sum(z, axis=0)  # 0번쨰 축 기준으로 더하기(행끼리 더하기)\n",
        "sum2 = tf.reduce_sum(z, axis=1)  # 1번째 축 기준으로 더하기(열끼리 더하기)\n",
        "sum3 = tf.reduce_sum(z, axis=-1) # -1번째 축 기준으로 더하기(여기서는 열끼리)\n",
        "print(sum)\n",
        "print(sum1)\n",
        "print(sum2)\n",
        "print(sum3)"
      ],
      "metadata": {
        "colab": {
          "base_uri": "https://localhost:8080/"
        },
        "id": "5L0ksZcnXTx6",
        "outputId": "c5d2a301-24eb-490b-8d2f-6b3b434a3545"
      },
      "execution_count": 57,
      "outputs": [
        {
          "output_type": "stream",
          "name": "stdout",
          "text": [
            "tf.Tensor(55, shape=(), dtype=int32)\n",
            "tf.Tensor([ 7  9 11 13 15], shape=(5,), dtype=int32)\n",
            "tf.Tensor([15 40], shape=(2,), dtype=int32)\n",
            "tf.Tensor([15 40], shape=(2,), dtype=int32)\n"
          ]
        }
      ]
    },
    {
      "cell_type": "code",
      "source": [
        "#concat 차원유지\n",
        "concat = tf.concat([z,z], axis=0)\n",
        "print(concat)\n",
        "concat = tf.concat([z,z], axis=1)\n",
        "print(concat)"
      ],
      "metadata": {
        "colab": {
          "base_uri": "https://localhost:8080/"
        },
        "id": "VJXOptyQX3D8",
        "outputId": "d5c4b18d-b877-43fa-8fdc-aa4aadb883a4"
      },
      "execution_count": 59,
      "outputs": [
        {
          "output_type": "stream",
          "name": "stdout",
          "text": [
            "tf.Tensor(\n",
            "[[ 1  2  3  4  5]\n",
            " [ 6  7  8  9 10]\n",
            " [ 1  2  3  4  5]\n",
            " [ 6  7  8  9 10]], shape=(4, 5), dtype=int32)\n",
            "tf.Tensor(\n",
            "[[ 1  2  3  4  5  1  2  3  4  5]\n",
            " [ 6  7  8  9 10  6  7  8  9 10]], shape=(2, 10), dtype=int32)\n"
          ]
        }
      ]
    },
    {
      "cell_type": "code",
      "source": [
        "# stack 차원 증가\n",
        "z = tf.range(1,13)\n",
        "z = tf.reshape(z, (3,4))\n",
        "stack = tf.stack([z,z], axis=0) #0번째에 데이터 생성하면서 쌓아줌\n",
        "print(stack)\n",
        "stack = tf.stack([z,z], axis=1)\n",
        "print(stack)\n",
        "stack = tf.stack([z,z], axis=-1)\n",
        "print(stack)"
      ],
      "metadata": {
        "colab": {
          "base_uri": "https://localhost:8080/"
        },
        "id": "Y01CDxX8YinS",
        "outputId": "3417eb58-25d7-43f3-fc3d-473274f1ed35"
      },
      "execution_count": 68,
      "outputs": [
        {
          "output_type": "stream",
          "name": "stdout",
          "text": [
            "tf.Tensor(\n",
            "[[[ 1  2  3  4]\n",
            "  [ 5  6  7  8]\n",
            "  [ 9 10 11 12]]\n",
            "\n",
            " [[ 1  2  3  4]\n",
            "  [ 5  6  7  8]\n",
            "  [ 9 10 11 12]]], shape=(2, 3, 4), dtype=int32)\n",
            "tf.Tensor(\n",
            "[[[ 1  2  3  4]\n",
            "  [ 1  2  3  4]]\n",
            "\n",
            " [[ 5  6  7  8]\n",
            "  [ 5  6  7  8]]\n",
            "\n",
            " [[ 9 10 11 12]\n",
            "  [ 9 10 11 12]]], shape=(3, 2, 4), dtype=int32)\n",
            "tf.Tensor(\n",
            "[[[ 1  1]\n",
            "  [ 2  2]\n",
            "  [ 3  3]\n",
            "  [ 4  4]]\n",
            "\n",
            " [[ 5  5]\n",
            "  [ 6  6]\n",
            "  [ 7  7]\n",
            "  [ 8  8]]\n",
            "\n",
            " [[ 9  9]\n",
            "  [10 10]\n",
            "  [11 11]\n",
            "  [12 12]]], shape=(3, 4, 2), dtype=int32)\n"
          ]
        }
      ]
    },
    {
      "cell_type": "code",
      "source": [
        ""
      ],
      "metadata": {
        "id": "zDnf4RkEYxjm"
      },
      "execution_count": null,
      "outputs": []
    }
  ]
}